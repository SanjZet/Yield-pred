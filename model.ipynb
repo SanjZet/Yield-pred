{
 "cells": [
  {
   "cell_type": "code",
   "execution_count": 1,
   "id": "285279f5",
   "metadata": {},
   "outputs": [],
   "source": [
    "import pandas as pd\n",
    "import numpy as np\n",
    "import matplotlib.pyplot as plt\n"
   ]
  },
  {
   "cell_type": "code",
   "execution_count": 8,
   "id": "e57b5498",
   "metadata": {},
   "outputs": [
    {
     "data": {
      "text/plain": [
       "Index(['Crop', 'Crop_Year', 'Season', 'State', 'Area', 'Production',\n",
       "       'Annual_Rainfall', 'Fertilizer', 'Pesticide', 'Yield'],\n",
       "      dtype='object')"
      ]
     },
     "execution_count": 8,
     "metadata": {},
     "output_type": "execute_result"
    }
   ],
   "source": [
    "data=pd.read_csv(\"crop_yield.csv\")\n",
    "data.columns"
   ]
  },
  {
   "cell_type": "code",
   "execution_count": 10,
   "id": "0d92a8a7",
   "metadata": {},
   "outputs": [
    {
     "data": {
      "text/html": [
       "<div>\n",
       "<style scoped>\n",
       "    .dataframe tbody tr th:only-of-type {\n",
       "        vertical-align: middle;\n",
       "    }\n",
       "\n",
       "    .dataframe tbody tr th {\n",
       "        vertical-align: top;\n",
       "    }\n",
       "\n",
       "    .dataframe thead th {\n",
       "        text-align: right;\n",
       "    }\n",
       "</style>\n",
       "<table border=\"1\" class=\"dataframe\">\n",
       "  <thead>\n",
       "    <tr style=\"text-align: right;\">\n",
       "      <th></th>\n",
       "      <th>Crop</th>\n",
       "      <th>Crop_Year</th>\n",
       "      <th>Season</th>\n",
       "      <th>State</th>\n",
       "      <th>Area</th>\n",
       "      <th>Production</th>\n",
       "      <th>Annual_Rainfall</th>\n",
       "      <th>Fertilizer</th>\n",
       "      <th>Pesticide</th>\n",
       "      <th>Yield</th>\n",
       "    </tr>\n",
       "  </thead>\n",
       "  <tbody>\n",
       "    <tr>\n",
       "      <th>0</th>\n",
       "      <td>Arecanut</td>\n",
       "      <td>1997</td>\n",
       "      <td>Whole Year</td>\n",
       "      <td>Assam</td>\n",
       "      <td>73814.0</td>\n",
       "      <td>56708</td>\n",
       "      <td>2051.4</td>\n",
       "      <td>7024878.38</td>\n",
       "      <td>22882.34</td>\n",
       "      <td>0.796087</td>\n",
       "    </tr>\n",
       "    <tr>\n",
       "      <th>1</th>\n",
       "      <td>Arhar/Tur</td>\n",
       "      <td>1997</td>\n",
       "      <td>Kharif</td>\n",
       "      <td>Assam</td>\n",
       "      <td>6637.0</td>\n",
       "      <td>4685</td>\n",
       "      <td>2051.4</td>\n",
       "      <td>631643.29</td>\n",
       "      <td>2057.47</td>\n",
       "      <td>0.710435</td>\n",
       "    </tr>\n",
       "    <tr>\n",
       "      <th>2</th>\n",
       "      <td>Castor seed</td>\n",
       "      <td>1997</td>\n",
       "      <td>Kharif</td>\n",
       "      <td>Assam</td>\n",
       "      <td>796.0</td>\n",
       "      <td>22</td>\n",
       "      <td>2051.4</td>\n",
       "      <td>75755.32</td>\n",
       "      <td>246.76</td>\n",
       "      <td>0.238333</td>\n",
       "    </tr>\n",
       "    <tr>\n",
       "      <th>3</th>\n",
       "      <td>Coconut</td>\n",
       "      <td>1997</td>\n",
       "      <td>Whole Year</td>\n",
       "      <td>Assam</td>\n",
       "      <td>19656.0</td>\n",
       "      <td>126905000</td>\n",
       "      <td>2051.4</td>\n",
       "      <td>1870661.52</td>\n",
       "      <td>6093.36</td>\n",
       "      <td>5238.051739</td>\n",
       "    </tr>\n",
       "    <tr>\n",
       "      <th>4</th>\n",
       "      <td>Cotton(lint)</td>\n",
       "      <td>1997</td>\n",
       "      <td>Kharif</td>\n",
       "      <td>Assam</td>\n",
       "      <td>1739.0</td>\n",
       "      <td>794</td>\n",
       "      <td>2051.4</td>\n",
       "      <td>165500.63</td>\n",
       "      <td>539.09</td>\n",
       "      <td>0.420909</td>\n",
       "    </tr>\n",
       "  </tbody>\n",
       "</table>\n",
       "</div>"
      ],
      "text/plain": [
       "           Crop  Crop_Year       Season  State     Area  Production  \\\n",
       "0      Arecanut       1997  Whole Year   Assam  73814.0       56708   \n",
       "1     Arhar/Tur       1997  Kharif       Assam   6637.0        4685   \n",
       "2   Castor seed       1997  Kharif       Assam    796.0          22   \n",
       "3      Coconut        1997  Whole Year   Assam  19656.0   126905000   \n",
       "4  Cotton(lint)       1997  Kharif       Assam   1739.0         794   \n",
       "\n",
       "   Annual_Rainfall  Fertilizer  Pesticide        Yield  \n",
       "0           2051.4  7024878.38   22882.34     0.796087  \n",
       "1           2051.4   631643.29    2057.47     0.710435  \n",
       "2           2051.4    75755.32     246.76     0.238333  \n",
       "3           2051.4  1870661.52    6093.36  5238.051739  \n",
       "4           2051.4   165500.63     539.09     0.420909  "
      ]
     },
     "execution_count": 10,
     "metadata": {},
     "output_type": "execute_result"
    }
   ],
   "source": [
    "data.head()"
   ]
  },
  {
   "cell_type": "code",
   "execution_count": 12,
   "id": "1c9846e2",
   "metadata": {},
   "outputs": [
    {
     "data": {
      "text/plain": [
       "196890"
      ]
     },
     "execution_count": 12,
     "metadata": {},
     "output_type": "execute_result"
    }
   ],
   "source": [
    "data.size"
   ]
  },
  {
   "cell_type": "markdown",
   "id": "6582e5c3",
   "metadata": {},
   "source": []
  },
  {
   "cell_type": "code",
   "execution_count": 15,
   "id": "24ad9998",
   "metadata": {},
   "outputs": [
    {
     "data": {
      "text/html": [
       "<div>\n",
       "<style scoped>\n",
       "    .dataframe tbody tr th:only-of-type {\n",
       "        vertical-align: middle;\n",
       "    }\n",
       "\n",
       "    .dataframe tbody tr th {\n",
       "        vertical-align: top;\n",
       "    }\n",
       "\n",
       "    .dataframe thead th {\n",
       "        text-align: right;\n",
       "    }\n",
       "</style>\n",
       "<table border=\"1\" class=\"dataframe\">\n",
       "  <thead>\n",
       "    <tr style=\"text-align: right;\">\n",
       "      <th></th>\n",
       "      <th>Crop_Year</th>\n",
       "      <th>Area</th>\n",
       "      <th>Production</th>\n",
       "      <th>Annual_Rainfall</th>\n",
       "      <th>Fertilizer</th>\n",
       "      <th>Pesticide</th>\n",
       "      <th>Yield</th>\n",
       "    </tr>\n",
       "  </thead>\n",
       "  <tbody>\n",
       "    <tr>\n",
       "      <th>count</th>\n",
       "      <td>19689.000000</td>\n",
       "      <td>1.968900e+04</td>\n",
       "      <td>1.968900e+04</td>\n",
       "      <td>19689.000000</td>\n",
       "      <td>1.968900e+04</td>\n",
       "      <td>1.968900e+04</td>\n",
       "      <td>19689.000000</td>\n",
       "    </tr>\n",
       "    <tr>\n",
       "      <th>mean</th>\n",
       "      <td>2009.127584</td>\n",
       "      <td>1.799266e+05</td>\n",
       "      <td>1.643594e+07</td>\n",
       "      <td>1437.755177</td>\n",
       "      <td>2.410331e+07</td>\n",
       "      <td>4.884835e+04</td>\n",
       "      <td>79.954009</td>\n",
       "    </tr>\n",
       "    <tr>\n",
       "      <th>std</th>\n",
       "      <td>6.498099</td>\n",
       "      <td>7.328287e+05</td>\n",
       "      <td>2.630568e+08</td>\n",
       "      <td>816.909589</td>\n",
       "      <td>9.494600e+07</td>\n",
       "      <td>2.132874e+05</td>\n",
       "      <td>878.306193</td>\n",
       "    </tr>\n",
       "    <tr>\n",
       "      <th>min</th>\n",
       "      <td>1997.000000</td>\n",
       "      <td>5.000000e-01</td>\n",
       "      <td>0.000000e+00</td>\n",
       "      <td>301.300000</td>\n",
       "      <td>5.417000e+01</td>\n",
       "      <td>9.000000e-02</td>\n",
       "      <td>0.000000</td>\n",
       "    </tr>\n",
       "    <tr>\n",
       "      <th>25%</th>\n",
       "      <td>2004.000000</td>\n",
       "      <td>1.390000e+03</td>\n",
       "      <td>1.393000e+03</td>\n",
       "      <td>940.700000</td>\n",
       "      <td>1.880146e+05</td>\n",
       "      <td>3.567000e+02</td>\n",
       "      <td>0.600000</td>\n",
       "    </tr>\n",
       "    <tr>\n",
       "      <th>50%</th>\n",
       "      <td>2010.000000</td>\n",
       "      <td>9.317000e+03</td>\n",
       "      <td>1.380400e+04</td>\n",
       "      <td>1247.600000</td>\n",
       "      <td>1.234957e+06</td>\n",
       "      <td>2.421900e+03</td>\n",
       "      <td>1.030000</td>\n",
       "    </tr>\n",
       "    <tr>\n",
       "      <th>75%</th>\n",
       "      <td>2015.000000</td>\n",
       "      <td>7.511200e+04</td>\n",
       "      <td>1.227180e+05</td>\n",
       "      <td>1643.700000</td>\n",
       "      <td>1.000385e+07</td>\n",
       "      <td>2.004170e+04</td>\n",
       "      <td>2.388889</td>\n",
       "    </tr>\n",
       "    <tr>\n",
       "      <th>max</th>\n",
       "      <td>2020.000000</td>\n",
       "      <td>5.080810e+07</td>\n",
       "      <td>6.326000e+09</td>\n",
       "      <td>6552.700000</td>\n",
       "      <td>4.835407e+09</td>\n",
       "      <td>1.575051e+07</td>\n",
       "      <td>21105.000000</td>\n",
       "    </tr>\n",
       "  </tbody>\n",
       "</table>\n",
       "</div>"
      ],
      "text/plain": [
       "          Crop_Year          Area    Production  Annual_Rainfall  \\\n",
       "count  19689.000000  1.968900e+04  1.968900e+04     19689.000000   \n",
       "mean    2009.127584  1.799266e+05  1.643594e+07      1437.755177   \n",
       "std        6.498099  7.328287e+05  2.630568e+08       816.909589   \n",
       "min     1997.000000  5.000000e-01  0.000000e+00       301.300000   \n",
       "25%     2004.000000  1.390000e+03  1.393000e+03       940.700000   \n",
       "50%     2010.000000  9.317000e+03  1.380400e+04      1247.600000   \n",
       "75%     2015.000000  7.511200e+04  1.227180e+05      1643.700000   \n",
       "max     2020.000000  5.080810e+07  6.326000e+09      6552.700000   \n",
       "\n",
       "         Fertilizer     Pesticide         Yield  \n",
       "count  1.968900e+04  1.968900e+04  19689.000000  \n",
       "mean   2.410331e+07  4.884835e+04     79.954009  \n",
       "std    9.494600e+07  2.132874e+05    878.306193  \n",
       "min    5.417000e+01  9.000000e-02      0.000000  \n",
       "25%    1.880146e+05  3.567000e+02      0.600000  \n",
       "50%    1.234957e+06  2.421900e+03      1.030000  \n",
       "75%    1.000385e+07  2.004170e+04      2.388889  \n",
       "max    4.835407e+09  1.575051e+07  21105.000000  "
      ]
     },
     "execution_count": 15,
     "metadata": {},
     "output_type": "execute_result"
    }
   ],
   "source": [
    "data.describe()\n"
   ]
  },
  {
   "cell_type": "code",
   "execution_count": 16,
   "id": "e58e25ed",
   "metadata": {},
   "outputs": [],
   "source": [
    "from sklearn.preprocessing import StandardScaler\n",
    "\n",
    "scaler = StandardScaler()\n",
    "numeric_cols = ['Area', 'Production', 'Annual_Rainfall', 'Fertilizer', 'Pesticide']\n",
    "data[numeric_cols] = scaler.fit_transform(data[numeric_cols])\n"
   ]
  },
  {
   "cell_type": "code",
   "execution_count": 18,
   "id": "535b9396",
   "metadata": {},
   "outputs": [
    {
     "name": "stdout",
     "output_type": "stream",
     "text": [
      "Running cross-validated predictions (this may take time)...\n",
      "CV RMSE: 137.3845\n",
      "CV MAE : 7.7298\n",
      "CV R2  : 0.9755\n",
      "Fitting final model on the whole dataset...\n",
      "Saved model to yield_model_stack.pkl\n"
     ]
    },
    {
     "name": "stderr",
     "output_type": "stream",
     "text": [
      "C:\\Users\\navas\\AppData\\Roaming\\Python\\Python313\\site-packages\\sklearn\\utils\\validation.py:2749: UserWarning: X does not have valid feature names, but LGBMRegressor was fitted with feature names\n",
      "  warnings.warn(\n",
      "C:\\Users\\navas\\AppData\\Roaming\\Python\\Python313\\site-packages\\joblib\\externals\\loky\\process_executor.py:782: UserWarning: A worker stopped while some jobs were given to the executor. This can be caused by a too short worker timeout or by a memory leak.\n",
      "  warnings.warn(\n"
     ]
    },
    {
     "name": "stdout",
     "output_type": "stream",
     "text": [
      "Permutation importance skipped (error): [WinError 1450] Insufficient system resources exist to complete the requested service\n"
     ]
    }
   ],
   "source": [
    "# strong_yield_pipeline.py\n",
    "import numpy as np\n",
    "import pandas as pd\n",
    "from sklearn.model_selection import KFold, cross_val_predict\n",
    "from sklearn.pipeline import Pipeline\n",
    "from sklearn.compose import ColumnTransformer, TransformedTargetRegressor\n",
    "from sklearn.preprocessing import StandardScaler, OneHotEncoder, FunctionTransformer\n",
    "from sklearn.ensemble import StackingRegressor, RandomForestRegressor, HistGradientBoostingRegressor\n",
    "from sklearn.metrics import mean_squared_error, mean_absolute_error, r2_score\n",
    "import joblib\n",
    "\n",
    "# ---------------------------\n",
    "# 1) Load data\n",
    "# ---------------------------\n",
    "data = pd.read_csv(\"crop_yield.csv\")   # change path if needed\n",
    "X = data.drop(columns=[\"Yield\"])\n",
    "y = data[\"Yield\"].values\n",
    "\n",
    "# ---------------------------\n",
    "# 2) Columns - adjust if your DF differs\n",
    "# ---------------------------\n",
    "numeric_skewed = [\"Production\"]   # apply log1p to reduce huge outliers like Coconut\n",
    "numeric_plain  = [\"Area\", \"Annual_Rainfall\", \"Fertilizer\", \"Pesticide\", \"Crop_Year\"]\n",
    "categorical_cols = [\"Crop\", \"Season\", \"State\"]\n",
    "\n",
    "# if Crop_Year isn't numeric in your file, convert:\n",
    "if \"Crop_Year\" in X.columns:\n",
    "    X[\"Crop_Year\"] = pd.to_numeric(X[\"Crop_Year\"], errors=\"coerce\")\n",
    "\n",
    "# ---------------------------\n",
    "# 3) Preprocessing pipeline\n",
    "# ---------------------------\n",
    "log_tf = FunctionTransformer(np.log1p, validate=False)\n",
    "\n",
    "num_skew_pipe = Pipeline([\n",
    "    (\"log\", log_tf),\n",
    "    (\"scaler\", StandardScaler())\n",
    "])\n",
    "\n",
    "num_pipe = Pipeline([\n",
    "    (\"scaler\", StandardScaler())\n",
    "])\n",
    "\n",
    "cat_pipe = OneHotEncoder(handle_unknown=\"ignore\", sparse_output=False)\n",
    "\n",
    "preprocessor = ColumnTransformer([\n",
    "    (\"prod_skew\", num_skew_pipe, [c for c in numeric_skewed if c in X.columns]),\n",
    "    (\"num\", num_pipe, [c for c in numeric_plain if c in X.columns]),\n",
    "    (\"cat\", cat_pipe, [c for c in categorical_cols if c in X.columns])\n",
    "], remainder=\"drop\")\n",
    "\n",
    "# ---------------------------\n",
    "# 4) Choose strong base learners (use what's installed)\n",
    "# ---------------------------\n",
    "base_estimators = []\n",
    "# try LightGBM\n",
    "try:\n",
    "    from lightgbm import LGBMRegressor\n",
    "    base_estimators.append((\"lgb\", LGBMRegressor(random_state=42, n_estimators=400, n_jobs=-1)))\n",
    "except Exception:\n",
    "    pass\n",
    "\n",
    "# try XGBoost\n",
    "try:\n",
    "    from xgboost import XGBRegressor\n",
    "    base_estimators.append((\"xgb\", XGBRegressor(random_state=42, n_estimators=400, verbosity=0, tree_method=\"hist\")))\n",
    "except Exception:\n",
    "    pass\n",
    "\n",
    "# fallback powerful sklearn models\n",
    "base_estimators.append((\"hgb\", HistGradientBoostingRegressor(random_state=42, max_iter=400)))\n",
    "base_estimators.append((\"rf\", RandomForestRegressor(n_estimators=400, random_state=42, n_jobs=-1)))\n",
    "\n",
    "# final estimator for stacking (you can try a stronger one if available)\n",
    "final_estimator = RandomForestRegressor(n_estimators=500, random_state=42, n_jobs=-1)\n",
    "\n",
    "stack = StackingRegressor(estimators=base_estimators, final_estimator=final_estimator, passthrough=True, n_jobs=-1)\n",
    "\n",
    "# ---------------------------\n",
    "# 5) Full pipeline with target transform\n",
    "# ---------------------------\n",
    "# Transform the target with log1p (good for skewed positive targets)\n",
    "tt = TransformedTargetRegressor(regressor=stack, func=np.log1p, inverse_func=np.expm1)\n",
    "\n",
    "pipeline = Pipeline([\n",
    "    (\"preprocessor\", preprocessor),\n",
    "    (\"regressor\", tt)\n",
    "])\n",
    "\n",
    "# ---------------------------\n",
    "# 6) Cross-validated evaluation (gives a realistic error estimate)\n",
    "# ---------------------------\n",
    "cv = KFold(n_splits=5, shuffle=True, random_state=42)\n",
    "\n",
    "print(\"Running cross-validated predictions (this may take time)...\")\n",
    "y_pred = cross_val_predict(pipeline, X, y, cv=cv, n_jobs=-1)\n",
    "\n",
    "rmse = np.sqrt(mean_squared_error(y, y_pred))\n",
    "mae  = mean_absolute_error(y, y_pred)\n",
    "r2   = r2_score(y, y_pred)\n",
    "\n",
    "print(f\"CV RMSE: {rmse:.4f}\")\n",
    "print(f\"CV MAE : {mae:.4f}\")\n",
    "print(f\"CV R2  : {r2:.4f}\")\n",
    "\n",
    "# ---------------------------\n",
    "# 7) Fit on full data & save model\n",
    "# ---------------------------\n",
    "print(\"Fitting final model on the whole dataset...\")\n",
    "pipeline.fit(X, y)\n",
    "\n",
    "joblib.dump(pipeline, \"yield_model_stack.pkl\")\n",
    "print(\"Saved model to yield_model_stack.pkl\")\n",
    "\n",
    "# ---------------------------\n",
    "# 8) Optional: feature importance via permutation (after fit)\n",
    "# ---------------------------\n",
    "try:\n",
    "    from sklearn.inspection import permutation_importance\n",
    "    Xi = pipeline.named_steps[\"preprocessor\"].transform(X)\n",
    "    res = permutation_importance(pipeline.named_steps[\"regressor\"], Xi, y, n_repeats=10, random_state=42, n_jobs=-1)\n",
    "    # mapping importance back to feature names is a bit involved because of OHE; here's a quick sanity print:\n",
    "    print(\"Permutation importances (mean):\", res.importances_mean[:10])\n",
    "except Exception as e:\n",
    "    print(\"Permutation importance skipped (error):\", e)\n"
   ]
  },
  {
   "cell_type": "code",
   "execution_count": 1,
   "id": "891779ff",
   "metadata": {},
   "outputs": [],
   "source": [
    "# ---------------------------\n",
    "# 4) Choose strong base learners (fixed warnings)\n",
    "# ---------------------------\n",
    "base_estimators = []\n",
    "# try LightGBM\n",
    "try:\n",
    "    from lightgbm import LGBMRegressor\n",
    "    base_estimators.append((\"lgb\", LGBMRegressor(random_state=42, n_estimators=200, n_jobs=1)))  # n_jobs=1 to reduce worker crash\n",
    "except Exception:\n",
    "    pass\n",
    "\n",
    "# try XGBoost\n",
    "try:\n",
    "    from xgboost import XGBRegressor\n",
    "    base_estimators.append((\"xgb\", XGBRegressor(random_state=42, n_estimators=200, verbosity=0, tree_method=\"hist\", n_jobs=1)))\n",
    "except Exception:\n",
    "    pass\n",
    "\n",
    "# fallback powerful sklearn models\n",
    "from sklearn.ensemble import HistGradientBoostingRegressor, RandomForestRegressor\n",
    "base_estimators.append((\"hgb\", HistGradientBoostingRegressor(random_state=42, max_iter=200)))  # HGB uses all cores internally\n",
    "base_estimators.append((\"rf\", RandomForestRegressor(n_estimators=200, random_state=42, n_jobs=1)))  # n_jobs=1\n",
    "\n",
    "# final estimator for stacking\n",
    "final_estimator = RandomForestRegressor(n_estimators=200, random_state=42, n_jobs=1)\n"
   ]
  },
  {
   "cell_type": "code",
   "execution_count": 2,
   "id": "35bc6f88",
   "metadata": {},
   "outputs": [],
   "source": [
    "import joblib\n",
    "import pandas as pd\n",
    "\n",
    "pipeline = joblib.load(\"yield_model_stack.pkl\")\n"
   ]
  },
  {
   "cell_type": "code",
   "execution_count": 3,
   "id": "0ae93d64",
   "metadata": {},
   "outputs": [],
   "source": [
    "# Example new data\n",
    "new_data = pd.DataFrame({\n",
    "    \"Crop\": [\"Coconut\"],\n",
    "    \"Crop_Year\": [2025],\n",
    "    \"Season\": [\"Whole Year\"],\n",
    "    \"State\": [\"Assam\"],\n",
    "    \"Area\": [20000],\n",
    "    \"Production\": [130000000],\n",
    "    \"Annual_Rainfall\": [2100],\n",
    "    \"Fertilizer\": [1800000],\n",
    "    \"Pesticide\": [6000]\n",
    "})\n"
   ]
  },
  {
   "cell_type": "code",
   "execution_count": 4,
   "id": "e6bd9d24",
   "metadata": {},
   "outputs": [
    {
     "name": "stderr",
     "output_type": "stream",
     "text": [
      "C:\\Users\\navas\\AppData\\Roaming\\Python\\Python313\\site-packages\\sklearn\\utils\\validation.py:2749: UserWarning: X does not have valid feature names, but LGBMRegressor was fitted with feature names\n",
      "  warnings.warn(\n"
     ]
    },
    {
     "name": "stdout",
     "output_type": "stream",
     "text": [
      "Predicted Yield: 43.47321825001192\n"
     ]
    }
   ],
   "source": [
    "predicted_yield = pipeline.predict(new_data)\n",
    "print(\"Predicted Yield:\", predicted_yield[0])\n"
   ]
  },
  {
   "cell_type": "code",
   "execution_count": 6,
   "id": "2eaf2961",
   "metadata": {},
   "outputs": [
    {
     "name": "stderr",
     "output_type": "stream",
     "text": [
      "C:\\Users\\navas\\AppData\\Roaming\\Python\\Python313\\site-packages\\sklearn\\utils\\validation.py:2749: UserWarning: X does not have valid feature names, but LGBMRegressor was fitted with feature names\n",
      "  warnings.warn(\n",
      "C:\\Users\\navas\\AppData\\Roaming\\Python\\Python313\\site-packages\\sklearn\\utils\\validation.py:2749: UserWarning: X does not have valid feature names, but LGBMRegressor was fitted with feature names\n",
      "  warnings.warn(\n"
     ]
    },
    {
     "name": "stdout",
     "output_type": "stream",
     "text": [
      "Train -> RMSE: 80.25, MAE: 3.29, R2: 0.9916\n",
      "Test -> RMSE: 102.11, MAE: 6.21, R2: 0.9870\n"
     ]
    }
   ],
   "source": [
    "import pandas as pd\n",
    "import numpy as np\n",
    "from sklearn.model_selection import train_test_split\n",
    "from sklearn.metrics import mean_squared_error, mean_absolute_error, r2_score\n",
    "import joblib\n",
    "\n",
    "# 1️⃣ Load your saved pipeline\n",
    "pipeline = joblib.load(\"yield_model_stack.pkl\")\n",
    "\n",
    "# 2️⃣ Load data\n",
    "data = pd.read_csv(\"crop_yield.csv\")\n",
    "X = data.drop(columns=[\"Yield\"])\n",
    "y = data[\"Yield\"].values\n",
    "\n",
    "# 3️⃣ Split data into train and test (hold-out)\n",
    "X_train, X_test, y_train, y_test = train_test_split(X, y, test_size=0.2, random_state=42)\n",
    "\n",
    "# 4️⃣ Fit pipeline on training data\n",
    "pipeline.fit(X_train, y_train)\n",
    "\n",
    "# 5️⃣ Predict on training and test set\n",
    "y_train_pred = pipeline.predict(X_train)\n",
    "y_test_pred  = pipeline.predict(X_test)\n",
    "\n",
    "# 6️⃣ Compute metrics\n",
    "def print_metrics(true, pred, name=\"\"):\n",
    "    rmse = np.sqrt(mean_squared_error(true, pred))\n",
    "    mae  = mean_absolute_error(true, pred)\n",
    "    r2   = r2_score(true, pred)\n",
    "    print(f\"{name} -> RMSE: {rmse:.2f}, MAE: {mae:.2f}, R2: {r2:.4f}\")\n",
    "\n",
    "print_metrics(y_train, y_train_pred, \"Train\")\n",
    "print_metrics(y_test, y_test_pred, \"Test\")\n"
   ]
  },
  {
   "cell_type": "code",
   "execution_count": 7,
   "id": "ecc75b15",
   "metadata": {},
   "outputs": [
    {
     "name": "stderr",
     "output_type": "stream",
     "text": [
      "C:\\Users\\navas\\AppData\\Roaming\\Python\\Python313\\site-packages\\sklearn\\utils\\validation.py:2749: UserWarning: X does not have valid feature names, but LGBMRegressor was fitted with feature names\n",
      "  warnings.warn(\n"
     ]
    },
    {
     "data": {
      "image/png": "[encoded data removed]",
      "text/plain": [
       "<Figure size 640x480 with 1 Axes>"
      ]
     },
     "metadata": {},
     "output_type": "display_data"
    }
   ],
   "source": [
    "import matplotlib.pyplot as plt\n",
    "\n",
    "y_test_pred = pipeline.predict(X_test)\n",
    "\n",
    "plt.scatter(y_test, y_test_pred, alpha=0.5)\n",
    "plt.plot([y_test.min(), y_test.max()], [y_test.min(), y_test.max()], 'r--')  # perfect prediction line\n",
    "plt.xlabel(\"Actual Yield\")\n",
    "plt.ylabel(\"Predicted Yield\")\n",
    "plt.title(\"Predicted vs Actual Yield (Test Set)\")\n",
    "plt.show()\n",
    "\n"
   ]
  },
  {
   "cell_type": "code",
   "execution_count": null,
   "id": "62081ee2",
   "metadata": {},
   "outputs": [],
   "source": []
  }
 ],
 "metadata": {
  "kernelspec": {
   "display_name": "Python 3",
   "language": "python",
   "name": "python3"
  },
  "language_info": {
   "codemirror_mode": {
    "name": "ipython",
    "version": 3
   },
   "file_extension": ".py",
   "mimetype": "text/x-python",
   "name": "python",
   "nbconvert_exporter": "python",
   "pygments_lexer": "ipython3",
   "version": "3.13.7"
  }
 },
 "nbformat": 4,
 "nbformat_minor": 5
}
